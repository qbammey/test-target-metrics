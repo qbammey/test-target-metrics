{
 "cells": [
  {
   "cell_type": "markdown",
   "source": [],
   "metadata": {
    "collapsed": false,
    "pycharm": {
     "name": "#%% md\n"
    }
   }
  },
  {
   "cell_type": "code",
   "execution_count": 2,
   "metadata": {
    "collapsed": true,
    "pycharm": {
     "name": "#%%\n"
    }
   },
   "outputs": [],
   "source": [
    "import numpy as np"
   ]
  },
  {
   "cell_type": "code",
   "execution_count": 123,
   "outputs": [
    {
     "data": {
      "text/plain": "array([-3,  1,  1,  1])"
     },
     "execution_count": 123,
     "metadata": {},
     "output_type": "execute_result"
    }
   ],
   "source": [
    "eps = np.array((-.75, .25, .25, .25))\n",
    "eps = np.array((-3, 1, 1, 1))\n",
    "eps"
   ],
   "metadata": {
    "collapsed": false,
    "pycharm": {
     "name": "#%%\n"
    }
   }
  },
  {
   "cell_type": "code",
   "execution_count": 125,
   "outputs": [
    {
     "data": {
      "text/plain": "array([ 1,  1, -3,  1])"
     },
     "execution_count": 125,
     "metadata": {},
     "output_type": "execute_result"
    }
   ],
   "source": [
    "np.random.permutation(eps)"
   ],
   "metadata": {
    "collapsed": false,
    "pycharm": {
     "name": "#%%\n"
    }
   }
  },
  {
   "cell_type": "code",
   "execution_count": 10,
   "outputs": [],
   "source": [
    "rng = np.random.default_rng()"
   ],
   "metadata": {
    "collapsed": false,
    "pycharm": {
     "name": "#%%\n"
    }
   }
  },
  {
   "cell_type": "code",
   "execution_count": 119,
   "outputs": [],
   "source": [
    "signs = np.sign(np.random.random((3, 3))-.5)"
   ],
   "metadata": {
    "collapsed": false,
    "pycharm": {
     "name": "#%%\n"
    }
   }
  },
  {
   "cell_type": "code",
   "execution_count": 179,
   "outputs": [
    {
     "name": "stdout",
     "output_type": "stream",
     "text": [
      "(6, 6)\n"
     ]
    }
   ],
   "source": [
    "Y, X = signs.shape\n",
    "new_signs = (eps[:, None, None]*signs[None])#.transpose(1, 2, 0).reshape(Y*X, 4)\n",
    "new_signs = rng.permuted(new_signs, axis=0)\n",
    "new_signs = np.concatenate((np.concatenate(new_signs[:2], axis=0), np.concatenate(new_signs[2:], axis=0)), axis=1)\n",
    "\n",
    "#new_signs = new_signs.reshape(Y, X, 4).transpose(2, 0, 1)\n",
    "#new_signs = new_signs.reshape(2, 2, Y, X).transpose(0, 2, 1, 3).reshape(2*Y, 2*X)\n",
    "#print(new_signs[-4:, -4:])"
   ],
   "metadata": {
    "collapsed": false,
    "pycharm": {
     "name": "#%%\n"
    }
   }
  },
  {
   "cell_type": "code",
   "execution_count": 176,
   "outputs": [],
   "source": [],
   "metadata": {
    "collapsed": false,
    "pycharm": {
     "name": "#%%\n"
    }
   }
  },
  {
   "cell_type": "code",
   "execution_count": 177,
   "outputs": [
    {
     "data": {
      "text/plain": "array([[-1., -1., -1.],\n       [ 1., -1., -1.],\n       [ 1.,  1., -1.]])"
     },
     "execution_count": 177,
     "metadata": {},
     "output_type": "execute_result"
    }
   ],
   "source": [
    "signs"
   ],
   "metadata": {
    "collapsed": false,
    "pycharm": {
     "name": "#%%\n"
    }
   }
  },
  {
   "cell_type": "code",
   "execution_count": 178,
   "outputs": [
    {
     "data": {
      "text/plain": "array([[ 3., -1., -1., -1., -1.,  3.],\n       [ 1., -1.,  3.,  1., -1., -1.],\n       [ 1., -3., -1., -3.,  1.,  3.],\n       [-1.,  3., -1., -1., -1., -1.],\n       [-3.,  3., -1.,  1., -1., -1.],\n       [ 1.,  1., -1.,  1.,  1., -1.]])"
     },
     "execution_count": 178,
     "metadata": {},
     "output_type": "execute_result"
    }
   ],
   "source": [
    "t"
   ],
   "metadata": {
    "collapsed": false,
    "pycharm": {
     "name": "#%%\n"
    }
   }
  },
  {
   "cell_type": "code",
   "execution_count": 128,
   "outputs": [
    {
     "data": {
      "text/plain": "array([[[-1., -1., -1.],\n        [ 1., -1., -1.],\n        [ 1.,  1., -1.]],\n\n       [[ 3.,  3.,  3.],\n        [-3.,  3.,  3.],\n        [-3., -3.,  3.]],\n\n       [[-1., -1., -1.],\n        [ 1., -1., -1.],\n        [ 1.,  1., -1.]],\n\n       [[-1., -1., -1.],\n        [ 1., -1., -1.],\n        [ 1.,  1., -1.]]])"
     },
     "execution_count": 128,
     "metadata": {},
     "output_type": "execute_result"
    }
   ],
   "source": [
    "new_signs"
   ],
   "metadata": {
    "collapsed": false,
    "pycharm": {
     "name": "#%%\n"
    }
   }
  },
  {
   "cell_type": "code",
   "execution_count": 107,
   "outputs": [
    {
     "data": {
      "text/plain": "array([[ 0.25,  0.25],\n       [-0.25, -0.25],\n       [ 0.25,  0.25],\n       [-0.25,  0.25]])"
     },
     "execution_count": 107,
     "metadata": {},
     "output_type": "execute_result"
    }
   ],
   "source": [
    "np.concatenate(new_signs[:2], axis=0)[:"
   ],
   "metadata": {
    "collapsed": false,
    "pycharm": {
     "name": "#%%\n"
    }
   }
  },
  {
   "cell_type": "code",
   "execution_count": 113,
   "outputs": [
    {
     "data": {
      "text/plain": "array([[ 0.25,  0.25,  0.25, ..., -0.25,  0.25,  0.25],\n       [-0.25, -0.25,  0.25, ...,  0.25, -0.25, -0.25],\n       [ 0.25,  0.25, -0.25, ..., -0.25,  0.25,  0.25],\n       ...,\n       [-0.25,  0.25, -0.25, ...,  0.25, -0.25, -0.25],\n       [ 0.25,  0.25, -0.25, ...,  0.25,  0.25, -0.25],\n       [-0.25,  0.25, -0.25, ..., -0.25,  0.25, -0.25]])"
     },
     "execution_count": 113,
     "metadata": {},
     "output_type": "execute_result"
    }
   ],
   "source": [
    "new_signs[3]"
   ],
   "metadata": {
    "collapsed": false,
    "pycharm": {
     "name": "#%%\n"
    }
   }
  }
 ],
 "metadata": {
  "kernelspec": {
   "display_name": "Python 3",
   "language": "python",
   "name": "python3"
  },
  "language_info": {
   "codemirror_mode": {
    "name": "ipython",
    "version": 2
   },
   "file_extension": ".py",
   "mimetype": "text/x-python",
   "name": "python",
   "nbconvert_exporter": "python",
   "pygments_lexer": "ipython2",
   "version": "2.7.6"
  }
 },
 "nbformat": 4,
 "nbformat_minor": 0
}